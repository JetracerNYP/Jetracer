{
 "cells": [
  {
   "cell_type": "code",
   "execution_count": 1,
   "metadata": {},
   "outputs": [],
   "source": [
    "import torch\n",
    "device = torch.device('cuda')"
   ]
  },
  {
   "cell_type": "code",
   "execution_count": null,
   "metadata": {},
   "outputs": [],
   "source": [
    "import torchvision\n",
    "from torch2trt import TRTModule\n",
    "\n",
    "model_trt = TRTModule()\n",
    "model_trt.load_state_dict(torch.load('best_model_trt2.pth'))"
   ]
  },
  {
   "cell_type": "code",
   "execution_count": null,
   "metadata": {},
   "outputs": [],
   "source": [
    "import torchvision.transforms as transforms\n",
    "import torch.nn.functional as F\n",
    "import cv2\n",
    "import PIL.Image\n",
    "import numpy as np\n",
    "\n",
    "mean = torch.Tensor([0.485, 0.456, 0.406]).cuda().half()\n",
    "std = torch.Tensor([0.229, 0.224, 0.225]).cuda().half()\n",
    "\n",
    "normalize = torchvision.transforms.Normalize(mean, std)\n",
    "\n",
    "def preprocess(image):\n",
    "    image = PIL.Image.fromarray(image)\n",
    "    image = transforms.functional.to_tensor(image).to(device).half()\n",
    "    image.sub_(mean[:, None, None]).div_(std[:, None, None])\n",
    "    return image[None, ...]"
   ]
  },
  {
   "cell_type": "code",
   "execution_count": null,
   "metadata": {},
   "outputs": [],
   "source": [
    "import traitlets\n",
    "from IPython.display import display\n",
    "import ipywidgets.widgets as widgets\n",
    "from jetcam.utils import bgr8_to_jpeg\n",
    "from jetcam.csi_camera import CSICamera\n",
    "\n",
    "camera = CSICamera(width=224, height=224)\n",
    "camera.running = True\n",
    "image = widgets.Image(format='jpeg', width=224, height=224)\n",
    "park_slider = widgets.FloatSlider(description='park', min=0.0, max=1.0, orientation='vertical')\n",
    "speed_slider = widgets.FloatSlider(description='speed', min=0.0, max=0.5, value=0.0, step=0.01, orientation='horizontal')\n",
    "\n",
    "camera_link = traitlets.dlink((camera, 'value'), (image, 'value'), transform=bgr8_to_jpeg)\n",
    "\n",
    "display(widgets.VBox([widgets.HBox([image, park_slider]), speed_slider]))"
   ]
  },
  {
   "cell_type": "code",
   "execution_count": null,
   "metadata": {},
   "outputs": [],
   "source": [
    "from jetracer.nvidia_racecar import NvidiaRacecar\n",
    "\n",
    "car = NvidiaRacecar()"
   ]
  },
  {
   "cell_type": "code",
   "execution_count": null,
   "metadata": {},
   "outputs": [],
   "source": [
    "from utils import preprocess\n",
    "from jetcam.utils import bgr8_to_jpeg\n",
    "import torch.nn.functional as F\n",
    "import time\n",
    "\n",
    "def update(change):\n",
    "    global park_slider, robot\n",
    "    new_image = change['new'] \n",
    "    \n",
    "    image = preprocess(new_image).half()\n",
    "    output = model_trt(image).detach().cpu().numpy().flatten()\n",
    "    x = float(output[0])\n",
    "    y = float(output[0])\n",
    "    \n",
    "    prob_park = float(output[0])\n",
    "    \n",
    "    park_slider.value = prob_park\n",
    "    \n",
    "    if prob_park < 0.3:\n",
    "        car.throttle = 0\n",
    "        time.sleep(1)\n",
    "        car.throttle = -0.3\n",
    "        time.sleep(1)\n",
    "        car.throttle = -0\n",
    "        time.sleep(1)\n",
    "        car.steering = -1\n",
    "        time.sleep(1)\n",
    "        car.throttle = -0.3\n",
    "        time.sleep(1.5)\n",
    "        car.throttle = 0\n",
    "        time.sleep(1)\n",
    "        car.steering = 0\n",
    "        time.sleep(1)\n",
    "        car.throttle = -0.3\n",
    "        time.sleep(1)\n",
    "        car.throttle = 0\n",
    "        time.sleep(1)\n",
    "        car.steering = 1\n",
    "        time.sleep(1)\n",
    "        car.throttle = -0.3\n",
    "        time.sleep(1)\n",
    "        car.throttle = 0\n",
    "        time.sleep(1)\n",
    "        car.steering = -1\n",
    "        time.sleep(1)\n",
    "        car.throttle = 0.14\n",
    "        time.sleep(1)\n",
    "        car.throttle = 0\n",
    "        time.sleep(1)\n",
    "        car.steering = 0\n",
    "        time.sleep(1)\n",
    "        time.sleep(1)\n",
    "        car.throttle = 0\n",
    "        time.sleep(1)\n",
    "        car.steering = 0\n",
    "        time.sleep(1)\n",
    "        car.throttle = 0.14\n",
    "        time.sleep(1)\n",
    "        car.throttle = -0.3\n",
    "        time.sleep(1)\n",
    "        car.throttle = -0\n",
    "        time.sleep(1.2)\n",
    "        car.throttle = -0\n",
    "        car.steering = 0\n",
    "        camera.unobserve(update, names='value')\n",
    "    else:\n",
    "        car.steering = 0.1\n",
    "        car.throttle = speed_slider.value\n",
    "        \n",
    "update({'new': camera.value})  # we call the function once to initialize"
   ]
  },
  {
   "cell_type": "code",
   "execution_count": null,
   "metadata": {},
   "outputs": [],
   "source": [
    "camera.observe(update, names='value')  # this attaches the 'update' function to the 'value' traitlet of our camera"
   ]
  },
  {
   "cell_type": "code",
   "execution_count": null,
   "metadata": {},
   "outputs": [],
   "source": []
  }
 ],
 "metadata": {
  "kernelspec": {
   "display_name": "Python 3",
   "language": "python",
   "name": "python3"
  },
  "language_info": {
   "codemirror_mode": {
    "name": "ipython",
    "version": 3
   },
   "file_extension": ".py",
   "mimetype": "text/x-python",
   "name": "python",
   "nbconvert_exporter": "python",
   "pygments_lexer": "ipython3",
   "version": "3.6.9"
  }
 },
 "nbformat": 4,
 "nbformat_minor": 4
}
